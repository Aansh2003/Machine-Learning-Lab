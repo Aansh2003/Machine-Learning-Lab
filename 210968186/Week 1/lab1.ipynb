{
 "cells": [
  {
   "cell_type": "code",
   "execution_count": 3,
   "metadata": {},
   "outputs": [
    {
     "name": "stdout",
     "output_type": "stream",
     "text": [
      "Enter a number:7\n",
      "sum=28.0\n"
     ]
    }
   ],
   "source": [
    "#Q1\n",
    "a = int(input(\"Enter a number:\"))\n",
    "print('sum='+str(a*(a+1)/2))"
   ]
  },
  {
   "cell_type": "code",
   "execution_count": 4,
   "metadata": {},
   "outputs": [
    {
     "name": "stdout",
     "output_type": "stream",
     "text": [
      "Enter number of feet:1\n",
      "Enter number of inches:0\n",
      "33.02cm\n"
     ]
    }
   ],
   "source": [
    "#Q2\n",
    "a = int(input(\"Enter number of feet:\"))\n",
    "b = int(input(\"Enter number of inches:\"))\n",
    "print(str(a*12*2.54+b+2.54)+\"cm\")"
   ]
  },
  {
   "cell_type": "code",
   "execution_count": 5,
   "metadata": {},
   "outputs": [
    {
     "name": "stdout",
     "output_type": "stream",
     "text": [
      "Enter human years:1\n",
      "10.5years\n"
     ]
    }
   ],
   "source": [
    "#Q3\n",
    "a = int(input(\"Enter human years:\"))\n",
    "if(a<0):\n",
    "    print('error')\n",
    "elif(a<2):\n",
    "    print(str(10.5*a)+'years')\n",
    "else:\n",
    "    print(str(21+4*(a-2))+'years')\n"
   ]
  },
  {
   "cell_type": "code",
   "execution_count": 30,
   "metadata": {},
   "outputs": [
    {
     "name": "stdout",
     "output_type": "stream",
     "text": [
      "enter a month:   February\n",
      "28\n"
     ]
    }
   ],
   "source": [
    "#Q4\n",
    "month = input(\"enter a month:\")\n",
    "if month.strip().lower() == 'february':\n",
    "    print(28)\n",
    "elif month.strip().lower() == 'april' or month.strip().lower() == 'june' or month.strip().lower() == 'september' or month.strip().lower() == 'november':\n",
    "    print(30)\n",
    "else:\n",
    "    print(31)"
   ]
  },
  {
   "cell_type": "code",
   "execution_count": 34,
   "metadata": {},
   "outputs": [
    {
     "name": "stdout",
     "output_type": "stream",
     "text": [
      "1\n",
      "2\n",
      "3\n",
      "4\n",
      "5\n",
      "6\n",
      "7\n",
      "8\n",
      "9\n",
      "10\n",
      "mean=5.5\n",
      "mean after adding 2:7.5\n",
      "mean after reducing 1:4.5\n",
      "mean after halving: 2.75\n"
     ]
    }
   ],
   "source": [
    "#Q5\n",
    "import numpy as np\n",
    "a = []\n",
    "for i in range(0,10):\n",
    "    a.append(int(input()))\n",
    "\n",
    "print(\"mean=\"+str(np.mean(a)))\n",
    "print(\"mean after adding 2:\"+str(np.mean(a)+2))\n",
    "print(\"mean after reducing 1:\"+str(np.mean(a)-1))\n",
    "print(\"mean after halving: \"+str(np.mean(a)/2))"
   ]
  },
  {
   "cell_type": "code",
   "execution_count": 29,
   "metadata": {},
   "outputs": [
    {
     "name": "stdout",
     "output_type": "stream",
     "text": [
      "enter square:B7\n",
      "white\n"
     ]
    }
   ],
   "source": [
    "#Q6\n",
    "a = input(\"enter square:\")\n",
    "\n",
    "if(int(a[1])%2==0):\n",
    "    isBlack = False\n",
    "else:\n",
    "    isBlack = True\n",
    "\n",
    "if isBlack:\n",
    "    if ord(a[0])%2==0:\n",
    "        print(\"white\")\n",
    "    else:\n",
    "        print('black')\n",
    "else:\n",
    "    if ord(a[0])%2==0:\n",
    "        print(\"black\")\n",
    "    else:\n",
    "        print('white')"
   ]
  },
  {
   "cell_type": "code",
   "execution_count": 26,
   "metadata": {},
   "outputs": [
    {
     "name": "stdout",
     "output_type": "stream",
     "text": [
      "36.25 85.0\n",
      "48.75\n",
      "-36.875\n",
      "158.125\n",
      "\n"
     ]
    }
   ],
   "source": [
    "#Q7\n",
    "import pandas as pd\n",
    "b = []\n",
    "for i in range(0,10):\n",
    "    b.append(np.random.randint(0,100))\n",
    "q1 = np.quantile(b,0.25)\n",
    "q3 = np.quantile(b,0.75)\n",
    "iqr = q3-q1\n",
    "lower = q1-1.5*iqr\n",
    "higher = q3+1.5*iqr\n",
    "print(q1,q3)\n",
    "print(iqr)\n",
    "print(lower)\n",
    "print(higher)\n",
    "print()\n",
    "for value in b:\n",
    "    if value>higher or value<lower:\n",
    "        print(value)"
   ]
  },
  {
   "cell_type": "code",
   "execution_count": null,
   "metadata": {},
   "outputs": [],
   "source": []
  },
  {
   "cell_type": "code",
   "execution_count": null,
   "metadata": {},
   "outputs": [],
   "source": []
  }
 ],
 "metadata": {
  "kernelspec": {
   "display_name": "Python 3 (ipykernel)",
   "language": "python",
   "name": "python3"
  },
  "language_info": {
   "codemirror_mode": {
    "name": "ipython",
    "version": 3
   },
   "file_extension": ".py",
   "mimetype": "text/x-python",
   "name": "python",
   "nbconvert_exporter": "python",
   "pygments_lexer": "ipython3",
   "version": "3.9.13"
  },
  "vscode": {
   "interpreter": {
    "hash": "916dbcbb3f70747c44a77c7bcd40155683ae19c65e1c03b4aa3499c5328201f1"
   }
  }
 },
 "nbformat": 4,
 "nbformat_minor": 2
}
